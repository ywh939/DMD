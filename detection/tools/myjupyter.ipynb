{
 "cells": [
  {
   "cell_type": "code",
   "execution_count": 1,
   "metadata": {},
   "outputs": [
    {
     "name": "stdout",
     "output_type": "stream",
     "text": [
      "/root/LoGoNet-py37/detection/tools\n"
     ]
    }
   ],
   "source": [
    "!pwd"
   ]
  },
  {
   "cell_type": "code",
   "execution_count": 8,
   "metadata": {},
   "outputs": [],
   "source": [
    "from tensorboardX import SummaryWriter"
   ]
  },
  {
   "cell_type": "code",
   "execution_count": 11,
   "metadata": {},
   "outputs": [
    {
     "data": {
      "text/plain": [
       "['det_model_cfgs', 'kitti']"
      ]
     },
     "execution_count": 11,
     "metadata": {},
     "output_type": "execute_result"
    }
   ],
   "source": [
    "s1 = 'cfgs/det_model_cfgs/kitti/LoGoNet-kitti.yaml'.split('/')[1:-1]\n",
    "s1"
   ]
  },
  {
   "cell_type": "code",
   "execution_count": 12,
   "metadata": {},
   "outputs": [
    {
     "data": {
      "text/plain": [
       "'det_model_cfgs/kitti'"
      ]
     },
     "execution_count": 12,
     "metadata": {},
     "output_type": "execute_result"
    }
   ],
   "source": [
    "s2 = \"/\".join(s1)\n",
    "s2"
   ]
  },
  {
   "cell_type": "code",
   "execution_count": 1,
   "metadata": {},
   "outputs": [],
   "source": [
    "from al3d_utils.config_utils import cfg, cfg_from_yaml_file"
   ]
  },
  {
   "cell_type": "code",
   "execution_count": 8,
   "metadata": {},
   "outputs": [
    {
     "data": {
      "text/plain": [
       "{'train': 'train', 'test': 'val'}"
      ]
     },
     "execution_count": 8,
     "metadata": {},
     "output_type": "execute_result"
    }
   ],
   "source": [
    "cfg_from_yaml_file(\"cfgs/det_model_cfgs/kitti/LoGoNet-kitti.yaml\", cfg)\n",
    "cfg.DATA_CONFIG.DATA_SPLIT"
   ]
  },
  {
   "cell_type": "code",
   "execution_count": 9,
   "metadata": {},
   "outputs": [
    {
     "data": {
      "text/plain": [
       "{'train': 'train', 'test': 'train'}"
      ]
     },
     "execution_count": 9,
     "metadata": {},
     "output_type": "execute_result"
    }
   ],
   "source": [
    "cfg.DATA_CONFIG.DATA_SPLIT['test'] = 'train'\n",
    "cfg.DATA_CONFIG.DATA_SPLIT"
   ]
  },
  {
   "cell_type": "code",
   "execution_count": 10,
   "metadata": {},
   "outputs": [
    {
     "ename": "AttributeError",
     "evalue": "'NoneType' object has no attribute 'mkdir'",
     "output_type": "error",
     "traceback": [
      "\u001b[0;31m---------------------------------------------------------------------------\u001b[0m",
      "\u001b[0;31mAttributeError\u001b[0m                            Traceback (most recent call last)",
      "\u001b[0;32m/tmp/ipykernel_894870/2832624659.py\u001b[0m in \u001b[0;36m<module>\u001b[0;34m\u001b[0m\n\u001b[1;32m      1\u001b[0m \u001b[0mresult_dir\u001b[0m\u001b[0;34m=\u001b[0m\u001b[0;32mNone\u001b[0m\u001b[0;34m\u001b[0m\u001b[0;34m\u001b[0m\u001b[0m\n\u001b[0;32m----> 2\u001b[0;31m \u001b[0mresult_dir\u001b[0m\u001b[0;34m.\u001b[0m\u001b[0mmkdir\u001b[0m\u001b[0;34m(\u001b[0m\u001b[0mparents\u001b[0m\u001b[0;34m=\u001b[0m\u001b[0;32mTrue\u001b[0m\u001b[0;34m,\u001b[0m \u001b[0mexist_ok\u001b[0m\u001b[0;34m=\u001b[0m\u001b[0;32mTrue\u001b[0m\u001b[0;34m)\u001b[0m\u001b[0;34m\u001b[0m\u001b[0;34m\u001b[0m\u001b[0m\n\u001b[0m",
      "\u001b[0;31mAttributeError\u001b[0m: 'NoneType' object has no attribute 'mkdir'"
     ]
    }
   ],
   "source": [
    "result_dir=None\n",
    "result_dir.mkdir(parents=True, exist_ok=True)"
   ]
  },
  {
   "cell_type": "code",
   "execution_count": 11,
   "metadata": {},
   "outputs": [],
   "source": [
    "a = {'Car_3d/easy_R40':92.49538527198567, 'Car_3d/moderate_R40':85.09462855850654}\n",
    "b = {'Car_3d/easy_R40':98.49538527198567, 'Car_3d/moderate_R40':87.09462855850654}"
   ]
  },
  {
   "cell_type": "code",
   "execution_count": 15,
   "metadata": {},
   "outputs": [
    {
     "data": {
      "text/plain": [
       "{'train': 92.49538527198567, 'val': 98.49538527198567}"
      ]
     },
     "execution_count": 15,
     "metadata": {},
     "output_type": "execute_result"
    }
   ],
   "source": [
    "c = {'train': a['Car_3d/easy_R40'], 'val': b['Car_3d/easy_R40']}\n",
    "c"
   ]
  },
  {
   "cell_type": "code",
   "execution_count": null,
   "metadata": {},
   "outputs": [],
   "source": [
    "for i in range(90, 100):\n",
    "    train_eval_ret_dict = {'Car_3d/easy_R40':i, 'Car_3d/moderate_R40':i-1,'Car_3d/hard_R40':i-2,\n",
    "                        'Pedestrian_3d/easy_R40':i-1, 'Pedestrian_3d/moderate_R40':i-2, 'Pedestrian_3d/hard_R40':i-3,\n",
    "                        'Cyclist_3d/easy_R40':i-4, 'Cyclist_3d/moderate_R40':i-5, 'Cyclist_3d/hard_R40':i-6}\n",
    "    val_eval_ret_dict = {'Car_3d/easy_R40':i-5, 'Car_3d/moderate_R40':i-6, 'Car_3d/hard_R40':i-7,\n",
    "                        'Pedestrian_3d/easy_R40':i-7, 'Pedestrian_3d/moderate_R40':i-8, 'Pedestrian_3d/hard_R40':i-9,\n",
    "                        'Cyclist_3d/easy_R40':i-10, 'Cyclist_3d/moderate_R40':i-11, 'Cyclist_3d/hard_R40':i-12}\n",
    "    epoch_id = i-90\n",
    "    scalars = ['Car_3d', 'Pedestrian_3d', 'Cyclist_3d']\n",
    "    [log_tensorboard(scalar, train_eval_ret_dict, val_eval_ret_dict, tb_log, epoch_id) for scalar in scalars]"
   ]
  },
  {
   "cell_type": "code",
   "execution_count": 3,
   "metadata": {},
   "outputs": [],
   "source": [
    "# import time\n",
    "# from watchdog.observers import Observer\n",
    "# from watchdog.events import FileSystemEventHandler\n",
    "\n",
    "# class MyHandler(FileSystemEventHandler):\n",
    "#     def on_created(self, event):\n",
    "#         if event.is_directory:\n",
    "#             return\n",
    "#         print(f\"新文件创建：{event.src_path}\")\n",
    "\n",
    "# # if __name__ == \"__main\":\n",
    "# path_to_watch = \"/root/LoGoNet-py37/detection/output/det_model_cfgs/kitti/LoGoNet-kitti/default/ckpt\"  # 替换为要监视的目录的路径\n",
    "# event_handler = MyHandler()\n",
    "# observer = Observer()\n",
    "# observer.schedule(event_handler, path_to_watch, recursive=False)\n",
    "# observer.start()\n",
    "\n",
    "# try:\n",
    "#     while True:\n",
    "#         time.sleep(1)\n",
    "# except KeyboardInterrupt:\n",
    "#     observer.stop()\n",
    "\n",
    "# observer.join()\n"
   ]
  },
  {
   "cell_type": "code",
   "execution_count": 1,
   "metadata": {},
   "outputs": [
    {
     "data": {
      "text/plain": [
       "92.53830515834184"
      ]
     },
     "execution_count": 1,
     "metadata": {},
     "output_type": "execute_result"
    }
   ],
   "source": [
    "ret = {'recall/roi_0.3': 0.9665717539863325, 'recall/rcnn_0.3': 0.9670842824601367, 'recall/roi_0.5': 0.9329157175398634, 'recall/rcnn_0.5': 0.9401480637813212, 'recall/roi_0.7': 0.7123006833712984, 'recall/rcnn_0.7': 0.7638952164009112, 'Car_aos/easy_R40': 98.18364684350793, 'Car_aos/moderate_R40': 94.45025594108888, 'Car_aos/hard_R40': 94.28394341983756, 'Car_3d/easy_R40': 92.53830515834184, 'Car_3d/moderate_R40': 85.11828975929913, 'Car_3d/hard_R40': 84.7399623729836, 'Car_bev/easy_R40': 94.8068908638905, 'Car_bev/moderate_R40': 90.76208562566123, 'Car_bev/hard_R40': 90.6919920472704, 'Car_image/easy_R40': 98.21325915808539, 'Car_image/moderate_R40': 94.57854010957408, 'Car_image/hard_R40': 94.47824697593367, 'Pedestrian_aos/easy_R40': 73.54609091738183, 'Pedestrian_aos/moderate_R40': 68.78497982523022, 'Pedestrian_aos/hard_R40': 64.91211781242725, 'Pedestrian_3d/easy_R40': 70.08573194781923, 'Pedestrian_3d/moderate_R40': 62.60780714449011, 'Pedestrian_3d/hard_R40': 58.88723801880702, 'Pedestrian_bev/easy_R40': 71.73876154371874, 'Pedestrian_bev/moderate_R40': 65.0837323618991, 'Pedestrian_bev/hard_R40': 62.24807333242654, 'Pedestrian_image/easy_R40': 78.8623872800384, 'Pedestrian_image/moderate_R40': 74.50153820156001, 'Pedestrian_image/hard_R40': 70.84196133917396, 'Cyclist_aos/easy_R40': 94.34950250893334, 'Cyclist_aos/moderate_R40': 78.66186230579378, 'Cyclist_aos/hard_R40': 77.19092085475718, 'Cyclist_3d/easy_R40': 92.67956921220696, 'Cyclist_3d/moderate_R40': 72.25270748107769, 'Cyclist_3d/hard_R40': 69.06520518801575, 'Cyclist_bev/easy_R40': 92.88457475997953, 'Cyclist_bev/moderate_R40': 74.16907365967066, 'Cyclist_bev/hard_R40': 70.24663057978293, 'Cyclist_image/easy_R40': 94.51067027437907, 'Cyclist_image/moderate_R40': 79.0318802381107, 'Cyclist_image/hard_R40': 77.80122566433808}\n",
    "ret['Car_3d/easy_R40']"
   ]
  },
  {
   "cell_type": "code",
   "execution_count": 5,
   "metadata": {},
   "outputs": [
    {
     "data": {
      "text/plain": [
       "(tensor([[[ 1.0691, -0.1717, -0.6381, -0.7592],\n",
       "          [-0.9296,  0.3967,  1.2330,  0.4723],\n",
       "          [ 0.5615,  0.9180,  0.7427,  0.4904]],\n",
       " \n",
       "         [[ 0.8987, -0.5311,  0.3285, -0.7647],\n",
       "          [ 0.4630, -0.1527, -0.8727, -1.7677],\n",
       "          [-0.3666,  0.9674, -0.1222,  0.0282]]]),\n",
       " torch.Size([2, 3, 4]))"
      ]
     },
     "execution_count": 5,
     "metadata": {},
     "output_type": "execute_result"
    }
   ],
   "source": [
    "import torch\n",
    "a = torch.randn(2, 3, 4)\n",
    "a, a.shape"
   ]
  },
  {
   "cell_type": "code",
   "execution_count": 6,
   "metadata": {},
   "outputs": [
    {
     "data": {
      "text/plain": [
       "(tensor([[[ 1.0691,  0.8987],\n",
       "          [-0.1717, -0.5311],\n",
       "          [-0.6381,  0.3285],\n",
       "          [-0.7592, -0.7647]],\n",
       " \n",
       "         [[-0.9296,  0.4630],\n",
       "          [ 0.3967, -0.1527],\n",
       "          [ 1.2330, -0.8727],\n",
       "          [ 0.4723, -1.7677]],\n",
       " \n",
       "         [[ 0.5615, -0.3666],\n",
       "          [ 0.9180,  0.9674],\n",
       "          [ 0.7427, -0.1222],\n",
       "          [ 0.4904,  0.0282]]]),\n",
       " torch.Size([3, 4, 2]))"
      ]
     },
     "execution_count": 6,
     "metadata": {},
     "output_type": "execute_result"
    }
   ],
   "source": [
    "b = a.permute(1, 2, 0)\n",
    "b, b.shape"
   ]
  }
 ],
 "metadata": {
  "kernelspec": {
   "display_name": "py37pt110pt21-lo-yangwenhao",
   "language": "python",
   "name": "python3"
  },
  "language_info": {
   "codemirror_mode": {
    "name": "ipython",
    "version": 3
   },
   "file_extension": ".py",
   "mimetype": "text/x-python",
   "name": "python",
   "nbconvert_exporter": "python",
   "pygments_lexer": "ipython3",
   "version": "3.7.12"
  }
 },
 "nbformat": 4,
 "nbformat_minor": 2
}
